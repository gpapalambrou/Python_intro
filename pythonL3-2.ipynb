{
 "cells": [
  {
   "cell_type": "markdown",
   "id": "c86e0ba9-1197-4f19-b876-470de24c6ae0",
   "metadata": {},
   "source": [
    "# Εισαγωγή στην Python"
   ]
  },
  {
   "cell_type": "markdown",
   "id": "4439faf5-5b86-4d42-ab59-2b80aaf5ad47",
   "metadata": {},
   "source": [
    "## Μάθημα 3: Δομές Δεδομένων, Διαχείριση"
   ]
  },
  {
   "cell_type": "markdown",
   "id": "4568104c-1170-4e43-bc53-4378216d3862",
   "metadata": {},
   "source": [
    "<div class=\"alert alert-block alert-success\">\n",
    "<b>Στόχοι</b> \n",
    "    \n",
    "- Λίστες, tuples και λεξικά (dictionaries)\n",
    "- Ανάγνωση/εγγραφή αρχείων (CSV, TXT)\n",
    "- Exceptions: try\n",
    "</div>"
   ]
  },
  {
   "cell_type": "markdown",
   "id": "a85897d7-3845-4cc9-bd67-aaeaec912d62",
   "metadata": {},
   "source": [
    "# Εισαγωγή στις Λίστες [1], Ch. 3"
   ]
  },
  {
   "cell_type": "code",
   "execution_count": 47,
   "id": "7a0a6716-7585-4d4a-82af-e786bbeb7f3f",
   "metadata": {},
   "outputs": [
    {
     "name": "stdout",
     "output_type": "stream",
     "text": [
      "['trek', 'cannondale', 'redline', 'specialized']\n"
     ]
    }
   ],
   "source": [
    "bicycles = ['trek', 'cannondale', 'redline', 'specialized']\n",
    "print(bicycles)"
   ]
  },
  {
   "cell_type": "code",
   "execution_count": 48,
   "id": "3d24643f-8455-475f-8d47-85128a0082ce",
   "metadata": {},
   "outputs": [
    {
     "name": "stdout",
     "output_type": "stream",
     "text": [
      "Trek\n"
     ]
    }
   ],
   "source": [
    "bicycles = ['trek', 'cannondale', 'redline', 'specialized']\n",
    "print(bicycles[0].title())"
   ]
  },
  {
   "cell_type": "code",
   "execution_count": 49,
   "id": "1025a12e-1b49-4549-a41f-3a822012db77",
   "metadata": {},
   "outputs": [
    {
     "name": "stdout",
     "output_type": "stream",
     "text": [
      "['honda', 'yamaha', 'suzuki']\n"
     ]
    }
   ],
   "source": [
    "motorcycles = ['honda', 'yamaha', 'suzuki']\n",
    "print(motorcycles)"
   ]
  },
  {
   "cell_type": "code",
   "execution_count": 50,
   "id": "ee88c362-a7ef-4eb7-9dfe-fae9879d9ef5",
   "metadata": {},
   "outputs": [
    {
     "name": "stdout",
     "output_type": "stream",
     "text": [
      "['ducati', 'yamaha', 'suzuki']\n"
     ]
    }
   ],
   "source": [
    "motorcycles[0] = 'ducati'\n",
    "print(motorcycles)"
   ]
  },
  {
   "cell_type": "code",
   "execution_count": 51,
   "id": "77679e3f-25b5-47c3-9455-ac8a9868cc7a",
   "metadata": {},
   "outputs": [
    {
     "name": "stdout",
     "output_type": "stream",
     "text": [
      "['ducati', 'yamaha', 'suzuki', 'ΚΤΜ']\n"
     ]
    }
   ],
   "source": [
    "motorcycles.append('ΚΤΜ')\n",
    "print(motorcycles)"
   ]
  },
  {
   "cell_type": "code",
   "execution_count": 52,
   "id": "6d453210-4695-4675-ad0c-cef1ed80e656",
   "metadata": {},
   "outputs": [
    {
     "name": "stdout",
     "output_type": "stream",
     "text": [
      "['yamaha', 'suzuki', 'ΚΤΜ']\n"
     ]
    }
   ],
   "source": [
    "del motorcycles[0]\n",
    "print(motorcycles)"
   ]
  },
  {
   "cell_type": "code",
   "execution_count": 53,
   "id": "779bf7fe-8dcc-4873-a32b-a4e8ec2b5dcd",
   "metadata": {},
   "outputs": [
    {
     "name": "stdout",
     "output_type": "stream",
     "text": [
      "['suzuki', 'ΚΤΜ']\n"
     ]
    }
   ],
   "source": [
    "motorcycles.remove('yamaha')\n",
    "print(motorcycles)"
   ]
  },
  {
   "cell_type": "code",
   "execution_count": 54,
   "id": "eb4cfb99-12d7-44c3-8b60-da96d6ee70e8",
   "metadata": {},
   "outputs": [
    {
     "name": "stdout",
     "output_type": "stream",
     "text": [
      "['audi', 'bmw', 'subaru', 'toyota']\n"
     ]
    },
    {
     "data": {
      "text/plain": [
       "'\\nThe sort() method, changes the order of the list permanently.\\nThe cars are now in alphabetical order, and we can never revert to\\nthe original order.\\n'"
      ]
     },
     "execution_count": 54,
     "metadata": {},
     "output_type": "execute_result"
    }
   ],
   "source": [
    "cars = ['bmw', 'audi', 'toyota', 'subaru']\n",
    "cars.sort()\n",
    "print(cars)\n",
    "\"\"\"\n",
    "The sort() method, changes the order of the list permanently.\n",
    "The cars are now in alphabetical order, and we can never revert to\n",
    "the original order.\n",
    "\"\"\""
   ]
  },
  {
   "cell_type": "code",
   "execution_count": 55,
   "id": "469f40b0-cd95-42a8-9e70-0aacebe1d744",
   "metadata": {},
   "outputs": [
    {
     "data": {
      "text/plain": [
       "4"
      ]
     },
     "execution_count": 55,
     "metadata": {},
     "output_type": "execute_result"
    }
   ],
   "source": [
    "len(cars)"
   ]
  },
  {
   "cell_type": "markdown",
   "id": "bed1f456-6e2d-460a-9935-ad64efb891fb",
   "metadata": {},
   "source": [
    "The index -1 always returns the last item in a list."
   ]
  },
  {
   "cell_type": "code",
   "execution_count": 56,
   "id": "c8a1ec02-515b-4e4b-9c32-d82f6fb1d0d3",
   "metadata": {},
   "outputs": [
    {
     "name": "stdout",
     "output_type": "stream",
     "text": [
      "toyota\n"
     ]
    }
   ],
   "source": [
    "print(cars[-1])"
   ]
  },
  {
   "cell_type": "markdown",
   "id": "ca66f49a-343a-4fab-9b4f-ccc11cefd5ba",
   "metadata": {},
   "source": [
    "## Δουλεύοντας με Λίστες [1], Ch. 4¶"
   ]
  },
  {
   "cell_type": "code",
   "execution_count": 57,
   "id": "951329c5-8fbd-4ced-8481-025f4e820654",
   "metadata": {},
   "outputs": [
    {
     "name": "stdout",
     "output_type": "stream",
     "text": [
      "alice\n",
      "david\n",
      "carolina\n"
     ]
    }
   ],
   "source": [
    "magicians = ['alice', 'david', 'carolina']\n",
    "for magician in magicians:\n",
    "    print(magician)"
   ]
  },
  {
   "cell_type": "code",
   "execution_count": 58,
   "id": "c971f6b6-c905-44c0-8246-3594c96d7b28",
   "metadata": {},
   "outputs": [
    {
     "name": "stdout",
     "output_type": "stream",
     "text": [
      "Alice, that was a great trick!\n",
      "David, that was a great trick!\n",
      "Carolina, that was a great trick!\n"
     ]
    }
   ],
   "source": [
    "magicians = ['alice', 'david', 'carolina']\n",
    "for magician in magicians:\n",
    "    print(magician.title() + \", that was a great trick!\")"
   ]
  },
  {
   "cell_type": "markdown",
   "id": "7ee21384-6e20-4c79-aa82-f870e99c20aa",
   "metadata": {},
   "source": [
    "Python’s range() function makes it easy to generate a series of numbers.\n",
    "For example, you can use the range() function to print a series of numbers\n",
    "like this:"
   ]
  },
  {
   "cell_type": "markdown",
   "id": "e35b7343-42c1-4b48-97fc-b939c670d2dc",
   "metadata": {},
   "source": [
    "Although this code looks like it should print the numbers from 1 to 5, it\n",
    "doesn’t print the number 5:"
   ]
  },
  {
   "cell_type": "code",
   "execution_count": 59,
   "id": "d4508c1b-abff-49a2-8281-c23e2e6bdf20",
   "metadata": {},
   "outputs": [
    {
     "name": "stdout",
     "output_type": "stream",
     "text": [
      "1\n",
      "2\n",
      "3\n",
      "4\n"
     ]
    }
   ],
   "source": [
    "for value in range(1,5):\n",
    "    print(value)"
   ]
  },
  {
   "cell_type": "markdown",
   "id": "d122f84e-ceed-41e7-8112-38b8d60d1249",
   "metadata": {},
   "source": [
    "### Simple Statistics with a List of Numbers"
   ]
  },
  {
   "cell_type": "code",
   "execution_count": 60,
   "id": "356745cc-a9f7-4136-bc55-b4c14c14dd5a",
   "metadata": {},
   "outputs": [
    {
     "data": {
      "text/plain": [
       "0"
      ]
     },
     "execution_count": 60,
     "metadata": {},
     "output_type": "execute_result"
    }
   ],
   "source": [
    "digits = [1, 2, 3, 4, 5, 6, 7, 8, 9, 0]\n",
    "min(digits)"
   ]
  },
  {
   "cell_type": "code",
   "execution_count": 61,
   "id": "b600d192-dc53-4ac3-82dd-3c54d3217e19",
   "metadata": {},
   "outputs": [
    {
     "data": {
      "text/plain": [
       "9"
      ]
     },
     "execution_count": 61,
     "metadata": {},
     "output_type": "execute_result"
    }
   ],
   "source": [
    "max(digits)"
   ]
  },
  {
   "cell_type": "code",
   "execution_count": 62,
   "id": "0cbd3efa-eb42-43b6-8ba6-a3608cf7d699",
   "metadata": {},
   "outputs": [
    {
     "data": {
      "text/plain": [
       "45"
      ]
     },
     "execution_count": 62,
     "metadata": {},
     "output_type": "execute_result"
    }
   ],
   "source": [
    "sum(digits)"
   ]
  },
  {
   "cell_type": "markdown",
   "id": "02f3e2bf-9870-4464-9a48-b20471db5768",
   "metadata": {},
   "source": [
    "### List Comprehensions\n",
    "A list comprehension allows you to generate\n",
    "this same list in just one line of code."
   ]
  },
  {
   "cell_type": "code",
   "execution_count": 63,
   "id": "bca467a5-86bd-4c40-af65-8e0a1f0748a1",
   "metadata": {},
   "outputs": [
    {
     "name": "stdout",
     "output_type": "stream",
     "text": [
      "[1, 4, 9, 16, 25, 36, 49, 64, 81, 100]\n"
     ]
    }
   ],
   "source": [
    "squares = [value**2 for value in range(1,11)]\n",
    "print(squares)"
   ]
  },
  {
   "cell_type": "markdown",
   "id": "335f74ee-b7eb-4073-a241-fdd0a5c4d374",
   "metadata": {},
   "source": [
    "### Slicing a List"
   ]
  },
  {
   "cell_type": "code",
   "execution_count": 64,
   "id": "715cbb02-19a0-4e7b-999a-c85c497b5bed",
   "metadata": {},
   "outputs": [
    {
     "name": "stdout",
     "output_type": "stream",
     "text": [
      "['charles', 'martina', 'michael']\n"
     ]
    }
   ],
   "source": [
    "players = ['charles', 'martina', 'michael', 'florence', 'eli']\n",
    "print(players[0:3])"
   ]
  },
  {
   "cell_type": "markdown",
   "id": "2821ee0b-dd5b-4278-8759-03afaf5e6d61",
   "metadata": {},
   "source": [
    "The code prints a slice of this list, which includes just the first\n",
    "three players. The output retains the structure of the list."
   ]
  },
  {
   "cell_type": "markdown",
   "id": "621dea13-2fa9-4b28-b226-6f2bfbc08c7f",
   "metadata": {},
   "source": [
    "### Copying a List\n",
    "To copy a list, you can make a slice that includes the entire original list\n",
    "by omitting the first index and the second index ([:])."
   ]
  },
  {
   "cell_type": "code",
   "execution_count": 65,
   "id": "f03eede6-369f-4222-b62c-4e37b4263a18",
   "metadata": {},
   "outputs": [
    {
     "name": "stdout",
     "output_type": "stream",
     "text": [
      "My favorite foods are:\n",
      "['pizza', 'falafel', 'carrot cake']\n",
      "\n",
      "My friend's favorite foods are:\n",
      "['pizza', 'falafel', 'carrot cake']\n"
     ]
    }
   ],
   "source": [
    "my_foods = ['pizza', 'falafel', 'carrot cake']\n",
    "friend_foods = my_foods[:]\n",
    "\n",
    "print(\"My favorite foods are:\")\n",
    "print(my_foods)\n",
    "\n",
    "print(\"\\nMy friend's favorite foods are:\")\n",
    "print(friend_foods)"
   ]
  },
  {
   "cell_type": "markdown",
   "id": "042f4bd5-6bd7-4911-b973-71e2fd5f881d",
   "metadata": {},
   "source": [
    "## Tuples\n",
    "Lists work well for storing sets of items that can change throughout the\n",
    "life of a program. \n",
    "\n",
    "The ability to modify lists is particularly important when\n",
    "you’re working with a list of users on a website or a list of characters in a\n",
    "game. However, sometimes you’ll want to create a list of items that cannot\n",
    "change. Tuples allow you to do just that. \n",
    "\n",
    "Python refers to values that cannot\n",
    "change as immutable, and an immutable list is called a tuple."
   ]
  },
  {
   "cell_type": "markdown",
   "id": "fbb26b5b-912d-4262-8616-464a75b06a8f",
   "metadata": {},
   "source": [
    "We define the tuple dimensions at #1, using parentheses instead of square\n",
    "brackets. At #2 we print each element in the tuple individually, using the\n",
    "same syntax we’ve been using to access elements in a list:"
   ]
  },
  {
   "cell_type": "code",
   "execution_count": 66,
   "id": "5dd3efb8-3954-4867-b42b-ff391fad47df",
   "metadata": {},
   "outputs": [
    {
     "name": "stdout",
     "output_type": "stream",
     "text": [
      "200\n",
      "50\n"
     ]
    }
   ],
   "source": [
    "dimensions = (200, 50) # line 1\n",
    "print(dimensions[0]) # line 2\n",
    "print(dimensions[1])"
   ]
  },
  {
   "cell_type": "markdown",
   "id": "62694483-4eb3-4830-9cdd-18aa36a9cd57",
   "metadata": {},
   "source": [
    "Let’s see what happens if we try to change one of the items in the tuple\n",
    "dimensions:"
   ]
  },
  {
   "cell_type": "markdown",
   "id": "0cecb60b-e641-4b68-bdb6-b46379503eea",
   "metadata": {},
   "source": [
    "The code at line 1 tries to change the value of the first dimension, but\n",
    "Python returns a type error. Basically, because we’re trying to alter a tuple,\n",
    "which can’t be done to that type of object, Python tells us we can’t assign a\n",
    "new value to an item in a tuple:"
   ]
  },
  {
   "cell_type": "code",
   "execution_count": 67,
   "id": "aa800c58-ee69-449d-8f84-1a93467b1d68",
   "metadata": {},
   "outputs": [
    {
     "ename": "TypeError",
     "evalue": "'tuple' object does not support item assignment",
     "output_type": "error",
     "traceback": [
      "\u001b[1;31m---------------------------------------------------------------------------\u001b[0m",
      "\u001b[1;31mTypeError\u001b[0m                                 Traceback (most recent call last)",
      "Cell \u001b[1;32mIn[67], line 2\u001b[0m\n\u001b[0;32m      1\u001b[0m dimensions \u001b[38;5;241m=\u001b[39m (\u001b[38;5;241m200\u001b[39m, \u001b[38;5;241m50\u001b[39m)\n\u001b[1;32m----> 2\u001b[0m \u001b[43mdimensions\u001b[49m\u001b[43m[\u001b[49m\u001b[38;5;241;43m0\u001b[39;49m\u001b[43m]\u001b[49m \u001b[38;5;241m=\u001b[39m \u001b[38;5;241m250\u001b[39m\n",
      "\u001b[1;31mTypeError\u001b[0m: 'tuple' object does not support item assignment"
     ]
    }
   ],
   "source": [
    "dimensions = (200, 50)\n",
    "dimensions[0] = 250"
   ]
  },
  {
   "cell_type": "markdown",
   "id": "701dfb12-aef9-4284-b08f-7b1b85bab0a5",
   "metadata": {},
   "source": [
    "## Looping \n",
    "\n",
    "Through All Values in a Tuple\n",
    "You can loop over all the values in a tuple using a for loop, just as you did\n",
    "with a list:"
   ]
  },
  {
   "cell_type": "code",
   "execution_count": 68,
   "id": "729ab195-289e-4bf0-904b-d6f452a17e93",
   "metadata": {},
   "outputs": [
    {
     "name": "stdout",
     "output_type": "stream",
     "text": [
      "200\n",
      "50\n"
     ]
    }
   ],
   "source": [
    "dimensions = (200, 50)\n",
    "for dimension in dimensions:\n",
    "    print(dimension)"
   ]
  },
  {
   "cell_type": "markdown",
   "id": "9a243f98-7622-4a36-ad28-4f9ddc5146cd",
   "metadata": {},
   "source": [
    "## Writing over a Tuple\n",
    "Although you can’t modify a tuple, you can assign a new value to a variable\n",
    "that holds a tuple. So if we wanted to change our dimensions, we could\n",
    "redefine the entire tuple:"
   ]
  },
  {
   "cell_type": "code",
   "execution_count": 69,
   "id": "36339b2d-5a22-42ca-a508-e22992178395",
   "metadata": {},
   "outputs": [
    {
     "name": "stdout",
     "output_type": "stream",
     "text": [
      "Original dimensions:\n",
      "200\n",
      "50\n",
      "\n",
      "Modified dimensions:\n",
      "400\n",
      "100\n"
     ]
    }
   ],
   "source": [
    "dimensions = (200, 50)\n",
    "print(\"Original dimensions:\")\n",
    "for dimension in dimensions:\n",
    "    print(dimension)\n",
    "\n",
    "dimensions = (400, 100)\n",
    "print(\"\\nModified dimensions:\")\n",
    "for dimension in dimensions:\n",
    "    print(dimension)"
   ]
  },
  {
   "cell_type": "markdown",
   "id": "e1808001-5407-4a73-83bc-893734e8f20d",
   "metadata": {},
   "source": [
    "The block at line 1 defines the original tuple and prints the initial dimensions.\n",
    "At 6, we store a new tuple in the variable dimensions. We then print the\n",
    "new dimensions at 7. Python doesn’t raise any errors this time, because\n",
    "overwriting a variable is valid."
   ]
  },
  {
   "cell_type": "markdown",
   "id": "23f22fc2-dd91-48a7-b725-8c00d8e445b4",
   "metadata": {},
   "source": [
    "## Styling Your Code, p. 72\n",
    "Δείτε τις συμβουλές στην παράγραφο αυτή του βιβλίου του E. Mathhes, και τα προγράμματα σας θα βελτιωθούν κατά πολύ !\n",
    "- The Style Guide\n",
    "- Indentation\n",
    "- Line Length\n",
    "- Blank Lines"
   ]
  },
  {
   "cell_type": "markdown",
   "id": "f60d8059-d23b-4111-bc71-412bb38db9f0",
   "metadata": {},
   "source": [
    "# Λεξικά [1], Ch. 6"
   ]
  },
  {
   "cell_type": "markdown",
   "id": "d802483a-f5e7-4638-bf46-bf914f942012",
   "metadata": {},
   "source": [
    "## A Simple Dictionary"
   ]
  },
  {
   "cell_type": "markdown",
   "id": "415039ff-3142-4c04-8871-ba4860413b43",
   "metadata": {},
   "source": [
    "A dictionary in Python is a collection of key-value pairs. Each key is connected\n",
    "to a value, and you can use a key to access the value associated with that key.\n",
    "\n",
    "\n",
    "A key’s value can be a number, a string, a list, or even another dictionary.\n",
    "In fact, you can use any object that you can create in Python as a value in a\n",
    "dictionary.\n",
    "\n",
    "\n",
    "In Python, a dictionary is wrapped in braces, {}, with a series of keyvalue\n",
    "pairs inside the braces, as shown in the earlier example:"
   ]
  },
  {
   "cell_type": "code",
   "execution_count": 70,
   "id": "23958b32-c0be-47d3-92ee-b4a4eda4060e",
   "metadata": {},
   "outputs": [
    {
     "name": "stdout",
     "output_type": "stream",
     "text": [
      "green\n",
      "5\n"
     ]
    }
   ],
   "source": [
    "alien_0 = {'color': 'green', 'points': 5}\n",
    "\n",
    "print(alien_0['color'])\n",
    "print(alien_0['points'])"
   ]
  },
  {
   "cell_type": "markdown",
   "id": "3159ff43-4fb6-4ebc-b8f3-891e41d5a1f0",
   "metadata": {},
   "source": [
    "## Modifying Values in a Dictionary\n",
    "To modify a value in a dictionary, give the name of the dictionary with the\n",
    "key in square brackets and then the new value you want associated with\n",
    "that key.\n",
    "\n",
    "For example, consider an alien that changes from green to yellow\n",
    "as a game progresses:"
   ]
  },
  {
   "cell_type": "code",
   "execution_count": 71,
   "id": "336eafd8-c000-4465-a467-9e3dff390114",
   "metadata": {},
   "outputs": [
    {
     "name": "stdout",
     "output_type": "stream",
     "text": [
      "The alien is green.\n",
      "The alien is now yellow.\n"
     ]
    }
   ],
   "source": [
    "alien_0 = {'color': 'green'}\n",
    "print(\"The alien is \" + alien_0['color'] + \".\")\n",
    "\n",
    "alien_0['color'] = 'yellow'\n",
    "print(\"The alien is now \" + alien_0['color'] + \".\")"
   ]
  },
  {
   "cell_type": "markdown",
   "id": "31702d90-5716-4b1e-8bc6-fcb08661e665",
   "metadata": {},
   "source": [
    "## Removing Key-Value Pairs\n",
    "When you no longer need a piece of information that’s stored in a dictionary,\n",
    "you can use the del statement to completely remove a key-value pair.\n",
    "All del needs is the name of the dictionary and the key that you want to\n",
    "remove.\n",
    "\n",
    "For example, let’s remove the key 'points' from the alien_0 dictionary\n",
    "along with its value:"
   ]
  },
  {
   "cell_type": "code",
   "execution_count": 72,
   "id": "633deced-21a2-4ee1-9f8c-fe3286e53e9a",
   "metadata": {},
   "outputs": [
    {
     "name": "stdout",
     "output_type": "stream",
     "text": [
      "{'color': 'green', 'points': 5}\n",
      "{'color': 'green'}\n"
     ]
    }
   ],
   "source": [
    "alien_0 = {'color': 'green', 'points': 5}\n",
    "print(alien_0)\n",
    "\n",
    "del alien_0['points']\n",
    "print(alien_0)"
   ]
  },
  {
   "cell_type": "markdown",
   "id": "190855f9-037b-4e0c-b789-0fd3034ecc19",
   "metadata": {},
   "source": [
    "## Looping Through All Key-Value Pairs\n",
    "Before we explore the different approaches to looping, let’s consider a\n",
    "new dictionary designed to store information about a user on a website.\n",
    "\n",
    "The following dictionary would store one person’s username, first name,\n",
    "and last name:\n"
   ]
  },
  {
   "cell_type": "code",
   "execution_count": 73,
   "id": "91b1eca2-b041-4c2d-90a9-b59b42d221af",
   "metadata": {},
   "outputs": [],
   "source": [
    "user_0 = {\n",
    "'username': 'efermi',\n",
    "'first': 'enrico',\n",
    "'last': 'fermi',\n",
    "}"
   ]
  },
  {
   "cell_type": "markdown",
   "id": "39c0e2bf-8129-4b1e-85c6-08ee08a4ea21",
   "metadata": {},
   "source": [
    "You can access any single piece of information about user_0 based\n",
    "on what you’ve already learned in this chapter. \n",
    "\n",
    "But what if you wanted to\n",
    "see everything stored in this user’s dictionary? To do so, you could loop\n",
    "through the dictionary using a for loop:"
   ]
  },
  {
   "cell_type": "code",
   "execution_count": 74,
   "id": "9d375695-f5e9-46b3-8dd2-c6fafe7e7dd9",
   "metadata": {},
   "outputs": [
    {
     "name": "stdout",
     "output_type": "stream",
     "text": [
      "\n",
      "Key: username\n",
      "Value: efermi\n",
      "\n",
      "Key: first\n",
      "Value: enrico\n",
      "\n",
      "Key: last\n",
      "Value: fermi\n"
     ]
    }
   ],
   "source": [
    "user_0 = {\n",
    "'username': 'efermi',\n",
    "'first': 'enrico',\n",
    "'last': 'fermi',\n",
    "}\n",
    "\n",
    "for key, value in user_0.items():\n",
    "    print(\"\\nKey: \" + key)\n",
    "    print(\"Value: \" + value)"
   ]
  },
  {
   "cell_type": "markdown",
   "id": "d3e2abf3-e8ab-43ff-b256-51da31cf1f46",
   "metadata": {},
   "source": [
    "As shown at line 7, to write a for loop for a dictionary, you create names for\n",
    "the two variables that will hold the key and value in each key-value pair. You\n",
    "can choose any names you want for these two variables."
   ]
  },
  {
   "cell_type": "markdown",
   "id": "f1d374cc-08c8-4a59-9496-7ebb6a786ab4",
   "metadata": {},
   "source": [
    "# Αρχεία [1], Ch. 10"
   ]
  },
  {
   "cell_type": "markdown",
   "id": "9893a66b-25df-45cb-957c-be78abb2c55b",
   "metadata": {},
   "source": [
    "## Reading from a File"
   ]
  },
  {
   "cell_type": "markdown",
   "id": "34ece083-5db3-42eb-8be2-ab3afbd519b9",
   "metadata": {},
   "source": [
    "Here’s a program that opens this file, reads it, and prints the contents\n",
    "of the file to the screen. The file to open and read, `pi_digits.txt`, must be in the same directory where you’ll store this chapter’s programs in Jupyter or VCS."
   ]
  },
  {
   "cell_type": "code",
   "execution_count": 75,
   "id": "f3a08983-d6de-4763-89cf-0c87ef979ec3",
   "metadata": {},
   "outputs": [
    {
     "name": "stdout",
     "output_type": "stream",
     "text": [
      "Alice's Adventures in Wonderland (also known as Alice in Wonderland) is an 1865 English children's novel by Lewis Carroll, a mathematics don at the University of Oxford. It details the story of a girl named Alice who falls through a rabbit hole into a fantasy world of anthropomorphic creatures.\n"
     ]
    }
   ],
   "source": [
    "#with open('pi_digits.txt') as file_object:\n",
    "with open('alice.txt') as file_object: #Alice's Adventures in Wonderland\n",
    "  \n",
    "    contents = file_object.read()\n",
    "    print(contents)"
   ]
  },
  {
   "cell_type": "markdown",
   "id": "f991b508-3e28-4be7-9c94-45d997a56f4b",
   "metadata": {},
   "source": [
    "## Writing to a File\n",
    "One of the simplest ways to save data is to write it to a file. When you write\n",
    "text to a file, the output will still be available after you close the terminal\n",
    "containing your program’s output. You can examine output after a program\n",
    "finishes running, and you can share the output files with others as well. You\n",
    "can also write programs that read the text back into memory and work with\n",
    "it again later.\n",
    "\n",
    "### Writing to an Empty File\n",
    "To write text to a file, you need to call open() with a second argument telling\n",
    "Python that you want to write to the file. \n",
    "\n",
    "To see how this works, let’s write a\n",
    "simple message and store it in a file instead of printing it to the screen:"
   ]
  },
  {
   "cell_type": "code",
   "execution_count": 24,
   "id": "5e6d02d6-4da8-4b56-9571-692ee77598b3",
   "metadata": {},
   "outputs": [],
   "source": [
    "filename = 'programming.txt'\n",
    "\n",
    "with open(filename, 'w') as file_object:\n",
    "    file_object.write(\"I love programming.\\n\") # needed for line break\n",
    "    file_object.write(\"I love creating new games.\\n\")"
   ]
  },
  {
   "cell_type": "markdown",
   "id": "48ba869b-8e37-4ed7-887c-9ffcbd122611",
   "metadata": {},
   "source": [
    "This program has no terminal output, but if you open the file\n",
    "programming.txt, you’ll see two lines: `I love programming.` and `I love creating new games.`"
   ]
  },
  {
   "cell_type": "markdown",
   "id": "ff5c6f56-1a59-4964-b079-3b9749c5260c",
   "metadata": {},
   "source": [
    "## Appending to a File\n",
    "If you want to add content to a file instead of writing over existing content,\n",
    "you can open the file in append mode.\n",
    "\n",
    "When you open a file in append mode,\n",
    "Python doesn’t erase the file before returning the file object. Any lines you\n",
    "write to the file will be added at the end of the file. \n",
    "\n",
    "If the file doesn’t exist\n",
    "yet, Python will create an empty file for you."
   ]
  },
  {
   "cell_type": "code",
   "execution_count": 22,
   "id": "03b09050-cabc-4dcf-8a64-fbd654444af9",
   "metadata": {},
   "outputs": [],
   "source": [
    "filename = 'programming.txt'\n",
    "\n",
    "with open(filename, 'a') as file_object:\n",
    "    file_object.write(\"I also love finding meaning in large datasets. \\n\")\n",
    "    file_object.write(\"I love creating apps that can run in a browser. \\n\")\n",
    "\n"
   ]
  },
  {
   "cell_type": "markdown",
   "id": "a7481391-5b71-444d-a6c6-13657861e974",
   "metadata": {},
   "source": [
    "# Exceptions [1], Ch. 10"
   ]
  },
  {
   "cell_type": "markdown",
   "id": "2c8f75a4-2979-4653-80e1-c7f855755dd6",
   "metadata": {},
   "source": [
    "Python uses special objects called exceptions to manage errors that arise during\n",
    "a program’s execution. Whenever an error occurs that makes Python\n",
    "unsure what to do next, it creates an exception object. If you write code\n",
    "that handles the exception, the program will continue running. If you don’t\n",
    "handle the exception, the program will halt and show a traceback, which\n",
    "includes a report of the exception that was raised.\n",
    "\n",
    "\n",
    "Exceptions are handled with `try-except` blocks. A try-except block asks\n",
    "Python to do something, but it also tells Python what to do if an exception\n",
    "is raised. When you use try-except blocks, your programs will continue\n",
    "running even if things start to go wrong. Instead of tracebacks, which can\n",
    "be confusing for users to read, users will see friendly error messages that\n",
    "you write."
   ]
  },
  {
   "cell_type": "markdown",
   "id": "a8b2a3d0-9a12-47d8-879e-e193c5c76b06",
   "metadata": {},
   "source": [
    "## Handling the ZeroDivisionError Exception\n"
   ]
  },
  {
   "cell_type": "code",
   "execution_count": 76,
   "id": "f0abfc88-5cf1-46b9-83c9-37af6407bc03",
   "metadata": {},
   "outputs": [
    {
     "ename": "ZeroDivisionError",
     "evalue": "division by zero",
     "output_type": "error",
     "traceback": [
      "\u001b[1;31m---------------------------------------------------------------------------\u001b[0m",
      "\u001b[1;31mZeroDivisionError\u001b[0m                         Traceback (most recent call last)",
      "Cell \u001b[1;32mIn[76], line 1\u001b[0m\n\u001b[1;32m----> 1\u001b[0m \u001b[38;5;28mprint\u001b[39m(\u001b[38;5;241;43m5\u001b[39;49m\u001b[38;5;241;43m/\u001b[39;49m\u001b[38;5;241;43m0\u001b[39;49m)\n",
      "\u001b[1;31mZeroDivisionError\u001b[0m: division by zero"
     ]
    }
   ],
   "source": [
    "print(5/0)"
   ]
  },
  {
   "cell_type": "markdown",
   "id": "a05df679-412f-44de-949f-793b14b56ee9",
   "metadata": {},
   "source": [
    "The error reported \"ZeroDivisionError: division by zero\" in the traceback, ZeroDivisionError, is an exception\n",
    "object. Python creates this kind of object in response to a situation\n",
    "where it can’t do what we ask it to. When this happens, Python stops the\n",
    "program and tells us the kind of exception that was raised. We can use this\n",
    "information to modify our program. \n",
    "\n",
    "We’ll tell Python what to do when this\n",
    "kind of exception occurs; that way, if it happens again, we’re prepared."
   ]
  },
  {
   "cell_type": "code",
   "execution_count": 77,
   "id": "afc90c55-6b1c-4e8a-83e2-54ddd97bcf75",
   "metadata": {},
   "outputs": [
    {
     "name": "stdout",
     "output_type": "stream",
     "text": [
      "You can't devoide by zero !!!!\n"
     ]
    }
   ],
   "source": [
    "try:\n",
    "    print(5/0)\n",
    "except ZeroDivisionError:\n",
    "    print(\"You can't devoide by zero !!!!\")"
   ]
  },
  {
   "cell_type": "markdown",
   "id": "925f0adf-613f-4b8a-b902-f36e37a4da6f",
   "metadata": {},
   "source": [
    "## Working with Multiple Files"
   ]
  },
  {
   "cell_type": "code",
   "execution_count": 78,
   "id": "c27ad019-a54d-49b1-af1b-b9498f00ac60",
   "metadata": {},
   "outputs": [
    {
     "name": "stdout",
     "output_type": "stream",
     "text": [
      "The file programming.txt has about 7 words.\n"
     ]
    }
   ],
   "source": [
    "def count_words(filename):\n",
    " \"\"\"Count the approximate number of words in a file.\"\"\"\n",
    "try:\n",
    "    with open(filename) as f_obj:\n",
    "        contents = f_obj.read()\n",
    "except FileNotFoundError:\n",
    "    msg = \"Sorry, the file \" + filename + \" does not exist.\"\n",
    "    print(msg)\n",
    "else:\n",
    "    # Count approximate number of words in the file.\n",
    "    words = contents.split()\n",
    "    num_words = len(words)\n",
    "    print(\"The file \" + filename + \" has about \" + str(num_words) +\n",
    "        \" words.\")\n",
    "filename = 'alice.txt'\n",
    "count_words(filename)"
   ]
  },
  {
   "cell_type": "code",
   "execution_count": 79,
   "id": "9a31cf9d-9e19-4b45-b165-d4177143bc78",
   "metadata": {},
   "outputs": [
    {
     "name": "stdout",
     "output_type": "stream",
     "text": [
      "The file alice.txt has about 49 words.\n"
     ]
    }
   ],
   "source": [
    "def count_words(filename):\n",
    " \"\"\"Count the approximate number of words in a file.\"\"\"\n",
    "try:\n",
    "    with open(filename) as f_obj:\n",
    "        contents = f_obj.read()\n",
    "except FileNotFoundError:\n",
    "    msg = \"Sorry, the file \" + filename + \" does not exist.\"\n",
    "    print(msg)\n",
    "else:\n",
    "    # Count approximate number of words in the file.\n",
    "    words = contents.split()\n",
    "    num_words = len(words)\n",
    "    print(\"The file \" + filename + \" has about \" + str(num_words) +\n",
    "        \" words.\")\n",
    "\n",
    "filenames = ['alice.txt', 'siddhartha.txt', 'moby_dick.txt', 'little_women.txt', 'programming.txt']\n",
    "\n",
    "for filename in filenames:\n",
    "    count_words(filename)"
   ]
  },
  {
   "cell_type": "markdown",
   "id": "fb111492-4ccb-4328-b3ab-5997018a6e8f",
   "metadata": {},
   "source": [
    "### Σύνοψη\n",
    "<div class=\"alert alert-block alert-info\">\n",
    "\n",
    "Τρέξτε σε Jupyter τον κώδικα `pythonL3-2.ipynb` και σε VCS τον κώδικα `python_L3.py`.\n",
    "\n",
    "</div>"
   ]
  },
  {
   "cell_type": "code",
   "execution_count": null,
   "id": "3d357427-f796-43c1-9773-10a2e36ed72a",
   "metadata": {},
   "outputs": [],
   "source": []
  }
 ],
 "metadata": {
  "kernelspec": {
   "display_name": "Python 3 (ipykernel)",
   "language": "python",
   "name": "python3"
  },
  "language_info": {
   "codemirror_mode": {
    "name": "ipython",
    "version": 3
   },
   "file_extension": ".py",
   "mimetype": "text/x-python",
   "name": "python",
   "nbconvert_exporter": "python",
   "pygments_lexer": "ipython3",
   "version": "3.12.9"
  }
 },
 "nbformat": 4,
 "nbformat_minor": 5
}
