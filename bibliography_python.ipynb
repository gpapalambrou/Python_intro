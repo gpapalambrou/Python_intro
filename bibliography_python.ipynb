{
 "cells": [
  {
   "cell_type": "markdown",
   "id": "f7fec123-921b-4dd2-a906-9eb1c30a4e62",
   "metadata": {},
   "source": [
    "# Βιβλιογραφία Python\n",
    "\n",
    "\n",
    "\n",
    "1. `E.  Matthes, Python Crash Course`, 3rd ed., No starch press, 2023, [GitHub - ehmatthes/pcc_3e: Online resources for Python Crash Course, 3rd edition](https://github.com/ehmatthes/pcc_3e)\n",
    "1. J. VanderPlas, A Whirlwind Tour of Python, https://jakevdp.github.io/WhirlwindTourOfPython/\n",
    "1. The Python Tutorial, https://docs.python.org/3/tutorial/index.html\n",
    "1. Foundations of Python Programming, https://runestone.academy/ns/books/published/fopp/index.html\n",
    "1. J. Elkner, A. Downey and C. Meyers, How to Think Like a Computer Scientist: Learning with Python, [On-line](https://www.openbookproject.net/thinkcs/python/english3e/)\n",
    "1. L. Ramalho, Fluent Python: Clear, Concise, and Effective Programming, 2nd Edition, O'Reilly Media, 2022\n",
    " \n",
    " Για επιστροφή στην αρχική σελίδα πατήστε [εδώ](README.md).\n"
   ]
  },
  {
   "cell_type": "code",
   "execution_count": null,
   "id": "680060e1-a1ee-411d-ad6d-ccf6c7baf28a",
   "metadata": {},
   "outputs": [],
   "source": []
  }
 ],
 "metadata": {
  "kernelspec": {
   "display_name": "Python 3 (ipykernel)",
   "language": "python",
   "name": "python3"
  },
  "language_info": {
   "codemirror_mode": {
    "name": "ipython",
    "version": 3
   },
   "file_extension": ".py",
   "mimetype": "text/x-python",
   "name": "python",
   "nbconvert_exporter": "python",
   "pygments_lexer": "ipython3",
   "version": "3.12.9"
  }
 },
 "nbformat": 4,
 "nbformat_minor": 5
}
