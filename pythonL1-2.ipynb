{
 "cells": [
  {
   "cell_type": "markdown",
   "id": "542b3de9-3a9b-4bb8-94ad-fa822a540672",
   "metadata": {},
   "source": [
    "# Εισαγωγή στην Python"
   ]
  },
  {
   "cell_type": "markdown",
   "id": "b509e6f2-55b6-4d53-8ad6-21f32b08e1cd",
   "metadata": {},
   "source": [
    "## Μάθημα 1"
   ]
  },
  {
   "cell_type": "markdown",
   "id": "c9b6ec82-0593-410d-b544-bd21bec178ab",
   "metadata": {},
   "source": [
    "\"\"\"\n",
    "Lesson 1: Introduction to Python Programming\n",
    "Example Code: Basic Syntax and Structure\n",
    "\n",
    "File: python_L1.py\n",
    "GP, 26/2/25\n",
    "\"\"\""
   ]
  },
  {
   "cell_type": "code",
   "execution_count": 3,
   "id": "5324e322-b0a3-4756-bd5d-99297ae17910",
   "metadata": {},
   "outputs": [
    {
     "name": "stdout",
     "output_type": "stream",
     "text": [
      "Hello, Python!\n"
     ]
    }
   ],
   "source": [
    "# Printing a message\n",
    "print(\"Hello, Python!\")"
   ]
  },
  {
   "cell_type": "code",
   "execution_count": 4,
   "id": "78a29c61-1d58-4bec-8c00-fd36979660ab",
   "metadata": {},
   "outputs": [],
   "source": [
    "# Variables and data types\n",
    "name = \"Alice\"\n",
    "age = 23\n",
    "is_student = True"
   ]
  },
  {
   "cell_type": "code",
   "execution_count": 5,
   "id": "4c124173-cc3e-4177-ace0-fd7a2326d60e",
   "metadata": {},
   "outputs": [
    {
     "name": "stdin",
     "output_type": "stream",
     "text": [
      "Enter your name:  ggg\n"
     ]
    },
    {
     "name": "stdout",
     "output_type": "stream",
     "text": [
      "Hello, ggg!\n"
     ]
    }
   ],
   "source": [
    "# Input and output functions\n",
    "user_name = input(\"Enter your name: \")\n",
    "print(\"Hello, \" + user_name + \"!\")"
   ]
  },
  {
   "cell_type": "code",
   "execution_count": null,
   "id": "20af07af-7a58-48e9-b4cf-2834d3b0cd32",
   "metadata": {},
   "outputs": [],
   "source": []
  }
 ],
 "metadata": {
  "kernelspec": {
   "display_name": "Python 3 (ipykernel)",
   "language": "python",
   "name": "python3"
  },
  "language_info": {
   "codemirror_mode": {
    "name": "ipython",
    "version": 3
   },
   "file_extension": ".py",
   "mimetype": "text/x-python",
   "name": "python",
   "nbconvert_exporter": "python",
   "pygments_lexer": "ipython3",
   "version": "3.12.9"
  }
 },
 "nbformat": 4,
 "nbformat_minor": 5
}
