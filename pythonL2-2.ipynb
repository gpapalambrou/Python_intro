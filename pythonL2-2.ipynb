{
 "cells": [
  {
   "cell_type": "markdown",
   "id": "5f440260-82db-47ee-8969-380f107f10b1",
   "metadata": {},
   "source": [
    "# Εισαγωγή στην Python"
   ]
  },
  {
   "cell_type": "markdown",
   "id": "276ed16b-4f73-4a3b-becb-096bbebd069d",
   "metadata": {},
   "source": [
    "## Μάθημα 2: Δομές Ελέγχου και Συναρτήσεις"
   ]
  },
  {
   "cell_type": "markdown",
   "id": "f0a719e6-e195-4ad9-9786-24067a75e85b",
   "metadata": {},
   "source": [
    "\"\"\"\n",
    "Lesson 2: Control Structures and Functions\n",
    "Example Code: Conditional Statements and Loops\n",
    "\n",
    "File: python_L2.py\n",
    "GP, 26/2/25\n",
    "\"\"\""
   ]
  },
  {
   "cell_type": "markdown",
   "id": "cc8f0d56-471a-4c80-bec7-c4af7f14b333",
   "metadata": {},
   "source": [
    "# Δηλώσεις If (Κεφ 5) [1] E. Matthes"
   ]
  },
  {
   "cell_type": "code",
   "execution_count": 24,
   "id": "49bea4ed-23fc-4827-b536-e80943afa565",
   "metadata": {},
   "outputs": [
    {
     "name": "stdin",
     "output_type": "stream",
     "text": [
      "Enter a number:  77\n"
     ]
    },
    {
     "name": "stdout",
     "output_type": "stream",
     "text": [
      "Positive number\n"
     ]
    }
   ],
   "source": [
    "# Conditional statements\n",
    "number = int(input(\"Enter a number: \"))\n",
    "if number > 0:\n",
    "    print(\"Positive number\")\n",
    "elif number == 0:\n",
    "    print(\"Zero\")\n",
    "else:\n",
    "    print(\"Negative number\")"
   ]
  },
  {
   "cell_type": "markdown",
   "id": "65ad2ffb-bbdc-4c1c-8f90-41c113325fc8",
   "metadata": {},
   "source": [
    "## Mathhes, Ch. 5, p. 76, cars.py"
   ]
  },
  {
   "cell_type": "code",
   "execution_count": 7,
   "id": "0de61021-8a84-48bc-a171-c58377a8e4e9",
   "metadata": {},
   "outputs": [
    {
     "name": "stdout",
     "output_type": "stream",
     "text": [
      "Audi\n",
      "BMW\n",
      "Subaru\n",
      "Toyota\n"
     ]
    }
   ],
   "source": [
    "cars = ['audi', 'bmw', 'subaru', 'toyota']\n",
    "\n",
    "for car in cars:\n",
    "    if car == 'bmw':\n",
    "        print(car.upper())\n",
    "    else:\n",
    "        print(car.title())"
   ]
  },
  {
   "cell_type": "markdown",
   "id": "005abd66-55fe-4b23-81a3-a8187095c125",
   "metadata": {},
   "source": [
    "## Mathhes, Ch. 5, p. 79, number.py\n"
   ]
  },
  {
   "cell_type": "code",
   "execution_count": 13,
   "id": "f6ee9693-b312-442c-94f5-9609ab801cc9",
   "metadata": {},
   "outputs": [
    {
     "name": "stdout",
     "output_type": "stream",
     "text": [
      "That is not the correct answer. Please try again!\n"
     ]
    }
   ],
   "source": [
    "answer = 433\n",
    "\n",
    "if answer != 42:\n",
    "        print(\"That is not the correct answer. Please try again!\")"
   ]
  },
  {
   "cell_type": "markdown",
   "id": "edca9bd6-dd46-47f7-97f2-7997df085b7f",
   "metadata": {},
   "source": [
    "## Mathhes, Ch. 5, p. 81, banned_users.py"
   ]
  },
  {
   "cell_type": "code",
   "execution_count": 17,
   "id": "bb673cb6-5c35-4488-b368-a8b9453ed78b",
   "metadata": {},
   "outputs": [
    {
     "name": "stdout",
     "output_type": "stream",
     "text": [
      "Marie, you can post a response if you wish.\n"
     ]
    }
   ],
   "source": [
    "banned_users = ['andrew', 'carolina', 'david']\n",
    "user = 'marie'\n",
    "#user = 'carolina'\n",
    "\n",
    "if user not in banned_users:\n",
    "    print(user.title() + \", you can post a response if you wish.\")\n",
    "else:\n",
    "    print(user.title() + \", YOU ARE BANNED !! ...\")\n"
   ]
  },
  {
   "cell_type": "markdown",
   "id": "631252c7-2a18-400e-b060-fe3f93c34da1",
   "metadata": {},
   "source": [
    "## Mathhes, Ch. 5, p. 84"
   ]
  },
  {
   "cell_type": "code",
   "execution_count": 18,
   "id": "e871a8bc-9484-4452-8312-c7766cbf0799",
   "metadata": {},
   "outputs": [
    {
     "name": "stdout",
     "output_type": "stream",
     "text": [
      "Sorry, you are too young to vote.\n",
      "Please register to vote as soon as you turn 18!\n"
     ]
    }
   ],
   "source": [
    "age = 17\n",
    "if age >= 18:\n",
    "    print(\"You are old enough to vote!\")\n",
    "    print(\"Have you registered to vote yet?\")\n",
    "else:\n",
    "    print(\"Sorry, you are too young to vote.\")\n",
    "    print(\"Please register to vote as soon as you turn 18!\")"
   ]
  },
  {
   "cell_type": "markdown",
   "id": "c6020db7-a027-4470-ae00-45ddddd4cf7b",
   "metadata": {},
   "source": [
    "## Mathhes, Ch. 5, p. 85, amusement_park.py"
   ]
  },
  {
   "cell_type": "code",
   "execution_count": 23,
   "id": "7b5e0943-51dd-448c-bd05-b70010880a1a",
   "metadata": {},
   "outputs": [
    {
     "name": "stdout",
     "output_type": "stream",
     "text": [
      "Your admission cost is $10.\n"
     ]
    }
   ],
   "source": [
    "#age = 3\n",
    "#age = 15\n",
    "#age = 45\n",
    "\n",
    "if age < 4:\n",
    "        print(\"Your admission cost is $0.\")\n",
    "elif age < 18:\n",
    "        print(\"Your admission cost is $5.\")\n",
    "else:\n",
    "        print(\"Your admission cost is $10.\")"
   ]
  },
  {
   "cell_type": "markdown",
   "id": "0fb9786e-cb24-484d-8cfd-60dddc3a54cd",
   "metadata": {},
   "source": [
    "# Βρόχος While (Κεφ 7) [1] E. Matthes"
   ]
  },
  {
   "cell_type": "markdown",
   "id": "892cbff8-d98f-4519-b6ac-90097f0b7350",
   "metadata": {},
   "source": [
    "## Mathhes, Ch. 7, p. 122, counting.py"
   ]
  },
  {
   "cell_type": "code",
   "execution_count": 25,
   "id": "869eaf10-00f9-41b5-90cf-db7c675dab65",
   "metadata": {},
   "outputs": [
    {
     "name": "stdout",
     "output_type": "stream",
     "text": [
      "1\n",
      "2\n",
      "3\n",
      "4\n",
      "5\n"
     ]
    }
   ],
   "source": [
    "current_number = 1\n",
    "while current_number <= 5:\n",
    "    print(current_number)\n",
    "    current_number += 1"
   ]
  },
  {
   "cell_type": "markdown",
   "id": "14b81b3e-c057-45d8-9952-571a3eac461f",
   "metadata": {},
   "source": [
    "## Mathhes, Ch. 7, p. 122, parrot.py"
   ]
  },
  {
   "cell_type": "code",
   "execution_count": 26,
   "id": "b96118e0-b811-4f62-a7fb-cbed71d0a797",
   "metadata": {},
   "outputs": [
    {
     "name": "stdin",
     "output_type": "stream",
     "text": [
      "\n",
      "Tell me something, and I will repeat it back to you:\n",
      "Enter 'quit' to end the program.  i am George \n"
     ]
    },
    {
     "name": "stdout",
     "output_type": "stream",
     "text": [
      "i am George \n"
     ]
    },
    {
     "name": "stdin",
     "output_type": "stream",
     "text": [
      "\n",
      "Tell me something, and I will repeat it back to you:\n",
      "Enter 'quit' to end the program.  quit\n"
     ]
    },
    {
     "name": "stdout",
     "output_type": "stream",
     "text": [
      "quit\n"
     ]
    }
   ],
   "source": [
    "prompt = \"\\nTell me something, and I will repeat it back to you:\"\n",
    "prompt += \"\\nEnter 'quit' to end the program. \"\n",
    "message = \"\"\n",
    "while message != 'quit':\n",
    "    message = input(prompt)\n",
    "    print(message)"
   ]
  },
  {
   "cell_type": "markdown",
   "id": "41fc7d64-41a9-48bb-9b82-222011629036",
   "metadata": {},
   "source": [
    "## Mathhes, Ch. 7, p. 125,  cities.py"
   ]
  },
  {
   "cell_type": "code",
   "execution_count": 31,
   "id": "4b74e928-0d87-4f49-bbd8-bbbb715a0425",
   "metadata": {},
   "outputs": [
    {
     "name": "stdin",
     "output_type": "stream",
     "text": [
      "\n",
      "Please enter the name of a city you have visited:\n",
      "(Enter 'quit' when you are finished.)  quit\n"
     ]
    }
   ],
   "source": [
    "prompt = \"\\nPlease enter the name of a city you have visited:\"\n",
    "prompt += \"\\n(Enter 'quit' when you are finished.) \"\n",
    "\"\"\"\n",
    "prompt += ...: The += operator appends the specified string \n",
    "to the existing value of the prompt variable. It doesn't replace the current value but adds to it.\n",
    "\"\"\"\n",
    "\n",
    "while True:\n",
    "    city = input(prompt)\n",
    "\n",
    "    if city == 'quit':\n",
    "        break\n",
    "    else:\n",
    "        print(\"I'd love to go to \" + city.title() + \"!\")\n"
   ]
  },
  {
   "cell_type": "markdown",
   "id": "55dcf4df-3015-4e2d-8667-783768d1f260",
   "metadata": {},
   "source": [
    "# Other, While loop"
   ]
  },
  {
   "cell_type": "code",
   "execution_count": 5,
   "id": "d56303ce-da5b-43c1-a315-f1ece4e3921c",
   "metadata": {},
   "outputs": [
    {
     "name": "stdout",
     "output_type": "stream",
     "text": [
      "Count: 0\n",
      "Count: 1\n",
      "Count: 2\n",
      "Count: 3\n",
      "Count: 4\n"
     ]
    }
   ],
   "source": [
    "# While loop\n",
    "count = 0\n",
    "while count < 5:\n",
    "    print(\"Count:\", count)\n",
    "    count += 1"
   ]
  },
  {
   "cell_type": "markdown",
   "id": "98c42782-da61-4543-8252-44bd1b58a04b",
   "metadata": {},
   "source": [
    "# Συναρτήσεις (Κεφ 8) [1] E. Mathhes"
   ]
  },
  {
   "cell_type": "code",
   "execution_count": null,
   "id": "06ce46e2-950b-496b-9db1-f35fe1efe00b",
   "metadata": {},
   "outputs": [],
   "source": []
  },
  {
   "cell_type": "markdown",
   "id": "8d713d6b-62bd-4798-8d3b-2f64ef42c0e0",
   "metadata": {},
   "source": [
    "## Mathhes, Ch. 8, p. 158, Styling Functions\n",
    "\n",
    "Πρέπει να έχετε υπόψη σας ορισμένες λεπτομέρειες όταν διαμορφώνετε συναρτήσεις. Οι συναρτήσεις πρέπει να έχουν περιγραφικά ονόματα και αυτά τα ονόματα πρέπει να χρησιμοποιούν πεζά γράμματα και κάτω παύλες: \n",
    "`def function_name(parameter_0, parameter_1='default value')`.\n",
    "\n",
    "Τα περιγραφικά ονόματα βοηθούν να κατανοήσετε τι προσπαθεί να κάνει ο κώδικας. Τα ονόματα των module πρέπει επίσης να ακολουθούν αυτές τις συμβάσεις.\n",
    "\n",
    "Κάθε συνάρτηση πρέπει να έχει ένα σχόλιο που εξηγεί συνοπτικά τι κάνει η συνάρτηση. Αυτό το σχόλιο πρέπει να εμφανίζεται αμέσως μετά τον ορισμό της συνάρτησης και να χρησιμοποιεί τη μορφή `docstring`. \n",
    "\n",
    "**In Python, a `docstring` (short for documentation string) is a special kind of string used to document a module, class, or function. Docstrings use triple quotes (\"\"\") and are accessible during runtime using the .__doc__ attribute.** \n",
    "\n",
    "Example: \n",
    "\n",
    "def greet(name):\n",
    "    \n",
    "    \"\"\"This function greets the person whose name is provided as an argument.\"\"\"\n",
    "    \n",
    "    print(f\"Hello, {name}!\")\n",
    "\n",
    "Σε μια καλά τεκμηριωμένη συνάρτηση, άλλοι προγραμματιστές μπορούν να χρησιμοποιήσουν τη συνάρτηση διαβάζοντας μόνο την περιγραφή στο docstring. Πρέπει να μπορούν να εμπιστεύονται ότι ο κώδικας λειτουργεί όπως περιγράφεται και, εφόσον γνωρίζουν το όνομα της συνάρτησης, τα arguments που χρειάζεται και το είδος της τιμής που επιστρέφει, πρέπει να μπορούν να τη χρησιμοποιούν στα προγράμματά τους."
   ]
  },
  {
   "cell_type": "markdown",
   "id": "376d82b7-a1e8-436a-8ec0-ec92256c676f",
   "metadata": {},
   "source": [
    "## Mathhes, Ch. 8, p. 134,  greeter.py"
   ]
  },
  {
   "cell_type": "code",
   "execution_count": 40,
   "id": "8b50b979-a856-4665-b4ec-ce1e250b218f",
   "metadata": {},
   "outputs": [
    {
     "name": "stdout",
     "output_type": "stream",
     "text": [
      "Hello!\n"
     ]
    }
   ],
   "source": [
    "def greet_user():\n",
    "    \"\"\"Display a simple greeting.\"\"\"\n",
    "    print(\"Hello!\")\n",
    "\n",
    "greet_user()"
   ]
  },
  {
   "cell_type": "code",
   "execution_count": 41,
   "id": "fdd9e084-72d8-45dd-b145-562a2475d748",
   "metadata": {},
   "outputs": [
    {
     "name": "stdout",
     "output_type": "stream",
     "text": [
      "Hello, Jesse!\n"
     ]
    }
   ],
   "source": [
    "def greet_user(username):\n",
    "    \"\"\"Display a simple greeting.\"\"\"\n",
    "    print(\"Hello, \" + username.title() + \"!\")\n",
    "\n",
    "greet_user('jesse')"
   ]
  },
  {
   "cell_type": "markdown",
   "id": "c2ac46ed-9466-480e-bb1e-baad1cd26c67",
   "metadata": {},
   "source": [
    "## Mathhes, Ch. 8, p. 136,  pets.py"
   ]
  },
  {
   "cell_type": "code",
   "execution_count": 42,
   "id": "4715db7e-80f3-4800-af95-4fbcf7850d26",
   "metadata": {},
   "outputs": [
    {
     "name": "stdout",
     "output_type": "stream",
     "text": [
      "\n",
      "I have a hamster.\n",
      "My hamster's name is Harry.\n"
     ]
    }
   ],
   "source": [
    "def describe_pet(animal_type, pet_name):\n",
    "    \"\"\"Display information about a pet.\"\"\"\n",
    "    print(\"\\nI have a \" + animal_type + \".\")\n",
    "    print(\"My \" + animal_type + \"'s name is \" + pet_name.title() + \".\")\n",
    "\n",
    "describe_pet('hamster', 'harry')"
   ]
  },
  {
   "cell_type": "markdown",
   "id": "83aef44a-bb66-4c67-a498-b7d4d2e3b0fc",
   "metadata": {},
   "source": [
    "## Mathhes, Ch. 8, p. 141,  formatted_name.py"
   ]
  },
  {
   "cell_type": "code",
   "execution_count": 44,
   "id": "05a13f6f-8f2e-4139-b828-f9de1a7cd90f",
   "metadata": {},
   "outputs": [
    {
     "name": "stdout",
     "output_type": "stream",
     "text": [
      "Jimi Hendrix\n"
     ]
    }
   ],
   "source": [
    "def get_formatted_name(first_name, last_name):\n",
    "    \"\"\"Return a full name, neatly formatted.\"\"\"\n",
    "    full_name = first_name + ' ' + last_name\n",
    "    return full_name.title()\n",
    "\n",
    "musician = get_formatted_name('jimi', 'hendrix')\n",
    "print(musician)"
   ]
  },
  {
   "cell_type": "code",
   "execution_count": null,
   "id": "4d76c304-5da0-4e3a-8a86-35b4fbbfa8d5",
   "metadata": {},
   "outputs": [],
   "source": []
  }
 ],
 "metadata": {
  "kernelspec": {
   "display_name": "Python 3 (ipykernel)",
   "language": "python",
   "name": "python3"
  },
  "language_info": {
   "codemirror_mode": {
    "name": "ipython",
    "version": 3
   },
   "file_extension": ".py",
   "mimetype": "text/x-python",
   "name": "python",
   "nbconvert_exporter": "python",
   "pygments_lexer": "ipython3",
   "version": "3.12.9"
  }
 },
 "nbformat": 4,
 "nbformat_minor": 5
}
