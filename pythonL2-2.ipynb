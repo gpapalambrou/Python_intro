{
 "cells": [
  {
   "cell_type": "markdown",
   "id": "5f440260-82db-47ee-8969-380f107f10b1",
   "metadata": {},
   "source": [
    "# Εισαγωγή στην Python"
   ]
  },
  {
   "cell_type": "markdown",
   "id": "276ed16b-4f73-4a3b-becb-096bbebd069d",
   "metadata": {},
   "source": [
    "## Μάθημα 2"
   ]
  },
  {
   "cell_type": "markdown",
   "id": "f0a719e6-e195-4ad9-9786-24067a75e85b",
   "metadata": {},
   "source": [
    "\"\"\"\n",
    "Lesson 2: Control Structures and Functions\n",
    "Example Code: Conditional Statements and Loops\n",
    "\n",
    "File: python_L2.py\n",
    "GP, 26/2/25\n",
    "\"\"\""
   ]
  },
  {
   "cell_type": "code",
   "execution_count": 2,
   "id": "49bea4ed-23fc-4827-b536-e80943afa565",
   "metadata": {},
   "outputs": [
    {
     "name": "stdin",
     "output_type": "stream",
     "text": [
      "Enter a number:  1\n"
     ]
    },
    {
     "name": "stdout",
     "output_type": "stream",
     "text": [
      "Positive number\n"
     ]
    }
   ],
   "source": [
    "# Conditional statements\n",
    "number = int(input(\"Enter a number: \"))\n",
    "if number > 0:\n",
    "    print(\"Positive number\")\n",
    "elif number == 0:\n",
    "    print(\"Zero\")\n",
    "else:\n",
    "    print(\"Negative number\")"
   ]
  },
  {
   "cell_type": "code",
   "execution_count": null,
   "id": "04fa93c9-177b-4965-a82d-9e8baa249881",
   "metadata": {},
   "outputs": [],
   "source": [
    "# For loop\n",
    "for i in range(5):\n",
    "    print(\"Iteration\", i)"
   ]
  },
  {
   "cell_type": "code",
   "execution_count": null,
   "id": "d56303ce-da5b-43c1-a315-f1ece4e3921c",
   "metadata": {},
   "outputs": [],
   "source": [
    "# While loop\n",
    "count = 0\n",
    "while count < 5:\n",
    "    print(\"Count:\", count)\n",
    "    count += 1"
   ]
  },
  {
   "cell_type": "code",
   "execution_count": null,
   "id": "fdd9e084-72d8-45dd-b145-562a2475d748",
   "metadata": {},
   "outputs": [],
   "source": [
    "# Defining a function\n",
    "def greet(name):\n",
    "    return f\"Hello, {name}!\"\n",
    "\n",
    "# Calling the function\n",
    "print(greet(\"Alice\"))"
   ]
  }
 ],
 "metadata": {
  "kernelspec": {
   "display_name": "Python 3 (ipykernel)",
   "language": "python",
   "name": "python3"
  },
  "language_info": {
   "codemirror_mode": {
    "name": "ipython",
    "version": 3
   },
   "file_extension": ".py",
   "mimetype": "text/x-python",
   "name": "python",
   "nbconvert_exporter": "python",
   "pygments_lexer": "ipython3",
   "version": "3.12.9"
  }
 },
 "nbformat": 4,
 "nbformat_minor": 5
}
