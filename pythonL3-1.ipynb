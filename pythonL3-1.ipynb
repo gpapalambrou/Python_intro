{
 "cells": [
  {
   "cell_type": "markdown",
   "id": "c86e0ba9-1197-4f19-b876-470de24c6ae0",
   "metadata": {},
   "source": [
    "# Εισαγωγή στην Python"
   ]
  },
  {
   "cell_type": "markdown",
   "id": "4439faf5-5b86-4d42-ab59-2b80aaf5ad47",
   "metadata": {},
   "source": [
    "## Μάθημα 2: Δομές Ελέγχου και Συναρτήσεις"
   ]
  },
  {
   "cell_type": "markdown",
   "id": "4568104c-1170-4e43-bc53-4378216d3862",
   "metadata": {},
   "source": [
    "<div class=\"alert alert-block alert-success\">\n",
    "<b>Στόχοι</b> \n",
    "    \n",
    "- Δομές ελέγχου: if, elif, else\n",
    "- Βρόχοι: for, while, και ένθετοι βρόχοι\n",
    "- Συναρτήσεις: ορισμός, κλήση και επιστροφή τιμών\n",
    "- Ορίσματα συναρτήσεων και πεδίο ορατότητας\n",
    "- Συναρτήσεις και χρήση τους\n",
    "</div>"
   ]
  },
  {
   "cell_type": "markdown",
   "id": "15691ec8-9c2b-42c4-830b-2ad2330fb4a9",
   "metadata": {},
   "source": [
    "### Έλεγχος Ροής [2]"
   ]
  },
  {
   "cell_type": "code",
   "execution_count": null,
   "id": "2a006901-e7a4-4c38-89ac-19111b1de2b0",
   "metadata": {},
   "outputs": [],
   "source": []
  },
  {
   "cell_type": "markdown",
   "id": "a85897d7-3845-4cc9-bd67-aaeaec912d62",
   "metadata": {},
   "source": [
    "### Δηλώσεις if [1]"
   ]
  },
  {
   "cell_type": "code",
   "execution_count": null,
   "id": "682b7cec-9a0c-469d-99a8-0537ed841b13",
   "metadata": {},
   "outputs": [],
   "source": []
  },
  {
   "cell_type": "markdown",
   "id": "fb111492-4ccb-4328-b3ab-5997018a6e8f",
   "metadata": {},
   "source": [
    "### Σύνοψη\n",
    "<div class=\"alert alert-block alert-info\">\n",
    "\n",
    "Τρέξτε σε Jupyter τον κώδικα `pythonL2-2.ipynb` και σε VCS τον κώδικα `python_L2.py`.\n",
    "\n",
    "</div>"
   ]
  }
 ],
 "metadata": {
  "kernelspec": {
   "display_name": "Python 3 (ipykernel)",
   "language": "python",
   "name": "python3"
  },
  "language_info": {
   "codemirror_mode": {
    "name": "ipython",
    "version": 3
   },
   "file_extension": ".py",
   "mimetype": "text/x-python",
   "name": "python",
   "nbconvert_exporter": "python",
   "pygments_lexer": "ipython3",
   "version": "3.12.9"
  }
 },
 "nbformat": 4,
 "nbformat_minor": 5
}
