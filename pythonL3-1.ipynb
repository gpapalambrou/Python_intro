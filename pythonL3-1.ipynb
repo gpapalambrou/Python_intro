{
 "cells": [
  {
   "cell_type": "markdown",
   "id": "c86e0ba9-1197-4f19-b876-470de24c6ae0",
   "metadata": {},
   "source": [
    "# Εισαγωγή στην Python"
   ]
  },
  {
   "cell_type": "markdown",
   "id": "4439faf5-5b86-4d42-ab59-2b80aaf5ad47",
   "metadata": {},
   "source": [
    "## Μάθημα 3: Δομές Δεδομένων, Διαχείριση"
   ]
  },
  {
   "cell_type": "markdown",
   "id": "4568104c-1170-4e43-bc53-4378216d3862",
   "metadata": {},
   "source": [
    "<div class=\"alert alert-block alert-success\">\n",
    "<b>Στόχοι</b> \n",
    "    \n",
    "- Λίστες, tuples και λεξικά (dictionaries)\n",
    "- Ανάγνωση/εγγραφή αρχείων (CSV, TXT)\n",
    "- Exceptions: try\n",
    "</div>"
   ]
  },
  {
   "cell_type": "markdown",
   "id": "a85897d7-3845-4cc9-bd67-aaeaec912d62",
   "metadata": {},
   "source": [
    "### Λίστες [1], Ch. 3, Ch. 4"
   ]
  },
  {
   "cell_type": "markdown",
   "id": "f60d8059-d23b-4111-bc71-412bb38db9f0",
   "metadata": {},
   "source": [
    "### Λεξικά [1], Ch. 6"
   ]
  },
  {
   "cell_type": "markdown",
   "id": "f1d374cc-08c8-4a59-9496-7ebb6a786ab4",
   "metadata": {},
   "source": [
    "### Αρχεία [1], Ch. 10"
   ]
  },
  {
   "cell_type": "markdown",
   "id": "a7481391-5b71-444d-a6c6-13657861e974",
   "metadata": {},
   "source": [
    "### Exceptions [1], Ch. 10"
   ]
  },
  {
   "cell_type": "markdown",
   "id": "fb111492-4ccb-4328-b3ab-5997018a6e8f",
   "metadata": {},
   "source": [
    "### Σύνοψη\n",
    "<div class=\"alert alert-block alert-info\">\n",
    "\n",
    "Τρέξτε σε Jupyter τον κώδικα `pythonL3-2.ipynb` και σε VCS τον κώδικα `python_L3.py`.\n",
    "\n",
    "</div>"
   ]
  },
  {
   "cell_type": "code",
   "execution_count": null,
   "id": "3d357427-f796-43c1-9773-10a2e36ed72a",
   "metadata": {},
   "outputs": [],
   "source": []
  }
 ],
 "metadata": {
  "kernelspec": {
   "display_name": "Python 3 (ipykernel)",
   "language": "python",
   "name": "python3"
  },
  "language_info": {
   "codemirror_mode": {
    "name": "ipython",
    "version": 3
   },
   "file_extension": ".py",
   "mimetype": "text/x-python",
   "name": "python",
   "nbconvert_exporter": "python",
   "pygments_lexer": "ipython3",
   "version": "3.12.9"
  }
 },
 "nbformat": 4,
 "nbformat_minor": 5
}
