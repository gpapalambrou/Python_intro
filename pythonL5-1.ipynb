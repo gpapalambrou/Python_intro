{
 "cells": [
  {
   "cell_type": "markdown",
   "id": "c86e0ba9-1197-4f19-b876-470de24c6ae0",
   "metadata": {},
   "source": [
    "# Εισαγωγή στην Python"
   ]
  },
  {
   "cell_type": "markdown",
   "id": "4439faf5-5b86-4d42-ab59-2b80aaf5ad47",
   "metadata": {},
   "source": [
    "## Μάθημα 5: Βιβλιοθήκες για Εφαρμογές"
   ]
  },
  {
   "cell_type": "markdown",
   "id": "4568104c-1170-4e43-bc53-4378216d3862",
   "metadata": {},
   "source": [
    "<div class=\"alert alert-block alert-success\">\n",
    "<b>Στόχοι</b> \n",
    "    \n",
    "- Numpy για αριθμητικούς υπολογισμούς\n",
    "- Matplotlib για απεικόνιση δεδομένων\n",
    "- Pandas για διαχείριση και ανάλυση δεδομένων\n",
    "- Εισαγωγή στη Scipy για επιστημονικούς υπολογισμούς\n",
    "</div>"
   ]
  },
  {
   "cell_type": "markdown",
   "id": "abcdbf1b-7f19-4a8e-bc04-0afa8960d75a",
   "metadata": {},
   "source": [
    "### Εργαλεία για Επιστήμες Δεδομένων [2]\n"
   ]
  },
  {
   "cell_type": "markdown",
   "id": "18cb0bfb-4b50-46e4-8730-06f2a35aa88f",
   "metadata": {},
   "source": [
    "### Python Handbook για Επιστήμες Δεδομένων [5]\n"
   ]
  },
  {
   "cell_type": "markdown",
   "id": "17c56709-027f-487d-ae20-258b5608edcd",
   "metadata": {},
   "source": [
    "### Δημιουργώντας Δεδομένα [1]\n"
   ]
  },
  {
   "cell_type": "markdown",
   "id": "fb111492-4ccb-4328-b3ab-5997018a6e8f",
   "metadata": {},
   "source": [
    "### Σύνοψη\n",
    "<div class=\"alert alert-block alert-info\">\n",
    "\n",
    "Τρέξτε σε Jupyter τον κώδικα `pythonL5-2.ipynb` και σε VCS τον κώδικα `python_L5.py`.\n",
    "\n",
    "</div>"
   ]
  },
  {
   "cell_type": "code",
   "execution_count": null,
   "id": "3d357427-f796-43c1-9773-10a2e36ed72a",
   "metadata": {},
   "outputs": [],
   "source": []
  }
 ],
 "metadata": {
  "kernelspec": {
   "display_name": "Python 3 (ipykernel)",
   "language": "python",
   "name": "python3"
  },
  "language_info": {
   "codemirror_mode": {
    "name": "ipython",
    "version": 3
   },
   "file_extension": ".py",
   "mimetype": "text/x-python",
   "name": "python",
   "nbconvert_exporter": "python",
   "pygments_lexer": "ipython3",
   "version": "3.12.9"
  }
 },
 "nbformat": 4,
 "nbformat_minor": 5
}
