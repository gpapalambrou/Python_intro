{
 "cells": [
  {
   "cell_type": "markdown",
   "id": "c1603dea-d131-4e9b-9463-ecc644251242",
   "metadata": {},
   "source": [
    "# Εισαγωγή στην Python"
   ]
  },
  {
   "cell_type": "markdown",
   "id": "ec78030a-dd34-47c7-913a-cffc3b0b5d70",
   "metadata": {},
   "source": [
    "## Μάθημα 1: Εισαγωγή στον προγραμματισμό με Python"
   ]
  },
  {
   "cell_type": "markdown",
   "id": "56773d91-b1ea-49e9-a8c9-b9adbabca47e",
   "metadata": {},
   "source": [
    "<div class=\"alert alert-block alert-success\">\n",
    "<b>Στόχοι</b> \n",
    "    \n",
    "- Επισκόπηση της Python\n",
    "- Εγκατάσταση της Python και ρύθμιση του περιβάλλοντος ανάπτυξης (Jupyter, VS Code)\n",
    "- Βασική σύνταξη και δομή: μεταβλητές, τύποι δεδομένων και τελεστές\n",
    "- Συναρτήσεις εισόδου και εξόδου\n",
    "- Γράψιμο και εκτέλεση απλών προγραμμάτων σε Python\n",
    "</div>"
   ]
  },
  {
   "cell_type": "markdown",
   "id": "08ab7631-43a0-4a3e-895e-51cf67c80b1e",
   "metadata": {},
   "source": [
    "### Εισαγωγή [2]\n",
    "\n",
    "Η Python, που σχεδιάστηκε στην αρχή της δεκαετίας του 1990 από τον Ολλανδό επιστήμονα πληροφορικής Guido van Rossum ως γλώσσα διδασκαλίας και scripting,\n",
    "έχει γίνει από τότε ένα απαραίτητο εργαλείο για πολλούς προγραμματιστές,\n",
    "μηχανικούς, ερευνητές και επιστήμονες δεδομένων σε όλο τον ακαδημαϊκό χώρο και την βιομηχανία. \n",
    "\n",
    "Η Python είναι μία σχεδόν τέλεια εφαρμογή για τους τύπους προβλημάτων που αντιμετωπίζουμε καθημερινά, όπως να εξάγει νόημα από μεγάλα  σύνολα αριθμητικών δεδομένων και κειμένου, φωτό κλπ, να συνδέεται με πηγές δεδομένων από τον Ιστό ή για την αυτοματοποίηση της καθημερινότητας σε πολλαπλά καθήκοντα."
   ]
  },
  {
   "cell_type": "markdown",
   "id": "076c39fb-0327-4cc2-b12e-cd83ad4b99d8",
   "metadata": {},
   "source": [
    "Η ελκυστικότητα της Python βασίζεται  στην απλότητα και την ομορφιά της, καθώς και στην\n",
    "ευκολία του μεγάλου οικοσυστήματος των εργαλείων που αφορούν συγκεκριμένους τομείς όπου είναι βασισμένη. \n",
    "\n",
    "\n",
    "Για παράδειγμα, το μεγαλύτερο μέρος του κώδικα Python\n",
    "στον επιστημονικό προγραμματισμό και την επιστήμη δεδομένων βασίζεται σε μια ομάδα από \n",
    "ώριμα και χρήσιμα πακέτα όπως:"
   ]
  },
  {
   "cell_type": "markdown",
   "id": "d969e72e-bf69-49f4-afa2-69c9f5c2f849",
   "metadata": {},
   "source": [
    "- Το **NumPy** που παρέχει αποτελεσματική αποθήκευση και υπολογισμό για πολυδιάστατους\n",
    "πίνακες δεδομένων.\n",
    "- Το **SciPy** που παρέχει ένα ευρύ φάσμα αριθμητικών εργαλείων, όπως αριθμητική\n",
    "ολοκλήρωση και παρεμβολή.\n",
    "- Το **Pandas** που παρέχει το  αντικείμενο DataFrame μαζί με ένα ισχυρό σύνολο\n",
    "μεθόδων χειρισμού, φιλτραρίσματος, ομαδοποίησης και μετατροπής δεδομένων.\n",
    "- Το **Matplotlib** που παρέχει μια χρήσιμη διεπαφή για τη δημιουργία\n",
    "διαγραμμάτων επαγγελματικής ποιότητας. \n",
    "- Το **Scikit-Learn** που παρέχει μια ενιαία εργαλειοθήκη για την εφαρμογή των βασικών\n",
    "αλγόριθμων μηχανικής μάθησης σε δεδομένα.\n",
    "- Τέλος το **IPython/Jupyter** που παρέχει ένα βελτιωμένο τερματικό και ένα διαδραστικό\n",
    "περιβάλλον σημειωματάριου (notebook) που είναι χρήσιμο για διερευνητική ανάλυση,\n",
    "καθώς και δημιουργία διαδραστικών, εκτελέσιμων εγγράφων. Για παράδειγμα, αυτά τα αρχεία κειμένου συντάχθηκαν εξ ολοκλήρου\n",
    "στα σημειωματάρια Jupyter."
   ]
  },
  {
   "cell_type": "markdown",
   "id": "ac92abf7-6e50-4c3e-9da2-7cdfe1946b44",
   "metadata": {},
   "source": [
    "### The Zen of Python [2]"
   ]
  },
  {
   "cell_type": "markdown",
   "id": "a55b92e7-d2fe-4633-b8e6-70125f1726f7",
   "metadata": {},
   "source": [
    "Εκτελέστε τον ακόλουθο κώδικα και θα δείτε ένα *Πασχαλινό αυγό (Easter egg)* στον interpreter της γλώσσας Python:"
   ]
  },
  {
   "cell_type": "code",
   "execution_count": 1,
   "id": "f0b01b11-f2a9-43d5-afc8-94d3f76dccfc",
   "metadata": {},
   "outputs": [
    {
     "name": "stdout",
     "output_type": "stream",
     "text": [
      "The Zen of Python, by Tim Peters\n",
      "\n",
      "Beautiful is better than ugly.\n",
      "Explicit is better than implicit.\n",
      "Simple is better than complex.\n",
      "Complex is better than complicated.\n",
      "Flat is better than nested.\n",
      "Sparse is better than dense.\n",
      "Readability counts.\n",
      "Special cases aren't special enough to break the rules.\n",
      "Although practicality beats purity.\n",
      "Errors should never pass silently.\n",
      "Unless explicitly silenced.\n",
      "In the face of ambiguity, refuse the temptation to guess.\n",
      "There should be one-- and preferably only one --obvious way to do it.\n",
      "Although that way may not be obvious at first unless you're Dutch.\n",
      "Now is better than never.\n",
      "Although never is often better than *right* now.\n",
      "If the implementation is hard to explain, it's a bad idea.\n",
      "If the implementation is easy to explain, it may be a good idea.\n",
      "Namespaces are one honking great idea -- let's do more of those!\n"
     ]
    }
   ],
   "source": [
    "import this"
   ]
  },
  {
   "cell_type": "markdown",
   "id": "c444a83d-ed60-4a03-b084-d9a241455a3d",
   "metadata": {},
   "source": [
    "Όταν εκτελείτε τον κώδικα `import this`, η Python αναζητά ένα module με το όνομα `this.py`. Αυτή η ενότητα είναι μέρος της τυπικής βιβλιοθήκης και περιέχει το κωδικοποιημένο κείμενο του \"The Zen of Python\". Όταν καλείτε το module `this`,  αυτό αποκωδικοποιεί και εκτυπώνει το κείμενο. Ακολουθεί μια σύντομη ματιά στο βασικό μέρος της ενότητας `this.py`:"
   ]
  },
  {
   "cell_type": "code",
   "execution_count": 8,
   "id": "b499fef4-adff-4e27-a68d-7fbc30fcb7ea",
   "metadata": {},
   "outputs": [
    {
     "name": "stdout",
     "output_type": "stream",
     "text": [
      "T Zn o Pyton, |y T Ptrs\n"
     ]
    }
   ],
   "source": [
    "s = \"Gur Mra bs Clguba, ol Gvz Crgref\"  # Encoded text\n",
    "print(\"\".join([chr(ord(c) + 13) if c.isalpha() else c for c in s]))"
   ]
  },
  {
   "cell_type": "markdown",
   "id": "2b32d187-3455-4572-8b5f-aa5efa3530c0",
   "metadata": {},
   "source": [
    "Το κείμενο κωδικοποιείται χρησιμοποιώντας τον κρυπτογράφηση ROT13, μια κρυπτογράφηση  αντικατάστασης (cipher) που αντικαθιστά κάθε γράμμα με το γράμμα 13 θέσεις μετά από αυτό στο αλφάβητο."
   ]
  },
  {
   "cell_type": "markdown",
   "id": "aa04ecc2-eb26-44b4-971b-6e6d25370296",
   "metadata": {},
   "source": [
    "### Ξεκίνημα (κεφ 1) [1] "
   ]
  },
  {
   "cell_type": "markdown",
   "id": "07bc4353-fbc6-410d-8705-612ab53e624d",
   "metadata": {},
   "source": [
    "Εγκατάσταση της Python. Εγκατάσταση Visual Code Studio. Στην Python περιλαμβάνεται και ο `pip` (Python package installer). "
   ]
  },
  {
   "cell_type": "markdown",
   "id": "7d456910-420d-4a28-9af8-39b931b0caa4",
   "metadata": {},
   "source": [
    "Εκτέλεση του προγράμματος Hello World (`hello_world.py`)."
   ]
  },
  {
   "cell_type": "code",
   "execution_count": 9,
   "id": "df952146-b60c-47e2-b975-c915167ecea0",
   "metadata": {},
   "outputs": [
    {
     "name": "stdout",
     "output_type": "stream",
     "text": [
      "Hello Python world!\n"
     ]
    }
   ],
   "source": [
    "print(\"Hello Python world!\")"
   ]
  },
  {
   "cell_type": "markdown",
   "id": "c8c9d381-664a-4f57-9cac-4ed76a2829e4",
   "metadata": {},
   "source": [
    "### Χρήση [2] "
   ]
  },
  {
   "cell_type": "markdown",
   "id": "a8020eb6-c38e-40cb-b47c-64165fcf0697",
   "metadata": {},
   "source": [
    "Εγκατάσταση με Conda. Εγκατάσταση του Jupyter."
   ]
  },
  {
   "cell_type": "markdown",
   "id": "6e9a8826-737a-4577-b932-e240ed4b1e1a",
   "metadata": {},
   "source": [
    "### Μια σύντομη περιήγηση της γλώσσας [2]"
   ]
  },
  {
   "cell_type": "code",
   "execution_count": 4,
   "id": "34622451-498a-469a-988d-ef6b9c25446b",
   "metadata": {},
   "outputs": [],
   "source": [
    "# set the midpoint\n",
    "midpoint = 5\n",
    "\n",
    "# make two empty lists\n",
    "lower = []; upper = []"
   ]
  },
  {
   "cell_type": "code",
   "execution_count": null,
   "id": "0a9b1b1a-94f0-4218-b460-c8255ab7708d",
   "metadata": {},
   "outputs": [],
   "source": []
  },
  {
   "cell_type": "code",
   "execution_count": 5,
   "id": "60a80226-5772-418c-84b2-ca12f66c674c",
   "metadata": {},
   "outputs": [],
   "source": [
    "# split the numbers into lower and upper\n",
    "for i in range(10):\n",
    "    if (i < midpoint):\n",
    "        lower.append(i)\n",
    "    else:\n",
    "        upper.append(i)\n",
    "\n",
    "        "
   ]
  },
  {
   "cell_type": "code",
   "execution_count": 6,
   "id": "90bbe94d-0e53-4221-a7ce-d40f6cf85537",
   "metadata": {},
   "outputs": [
    {
     "name": "stdout",
     "output_type": "stream",
     "text": [
      "lower: [0, 1, 2, 3, 4]\n"
     ]
    }
   ],
   "source": [
    "print(\"lower:\", lower)"
   ]
  },
  {
   "cell_type": "code",
   "execution_count": 7,
   "id": "7e1694d9-cc39-4ca1-bcad-162a9570b040",
   "metadata": {},
   "outputs": [
    {
     "name": "stdout",
     "output_type": "stream",
     "text": [
      "upper: [5, 6, 7, 8, 9]\n"
     ]
    }
   ],
   "source": [
    "print(\"upper:\", upper)"
   ]
  },
  {
   "cell_type": "markdown",
   "id": "5bf380f7-425e-4d56-a3fc-8f1ff3f07d9f",
   "metadata": {},
   "source": [
    "### Μεταβλητές και Αντικείμενα [2]"
   ]
  },
  {
   "cell_type": "code",
   "execution_count": null,
   "id": "3f7c8d0b-5a5b-4ae7-bde6-55f221d95b37",
   "metadata": {},
   "outputs": [],
   "source": []
  },
  {
   "cell_type": "markdown",
   "id": "fa7386ae-fec9-43b7-93d6-3390e67c11d3",
   "metadata": {},
   "source": [
    "### Τελεστές [2]"
   ]
  },
  {
   "cell_type": "code",
   "execution_count": null,
   "id": "fd27bd36-b880-438e-b14a-f28fe4dbe11d",
   "metadata": {},
   "outputs": [],
   "source": []
  },
  {
   "cell_type": "markdown",
   "id": "0222d672-4aaf-415b-9669-2c40fa15b28c",
   "metadata": {},
   "source": [
    "### Απλές τιμές [2]"
   ]
  },
  {
   "cell_type": "code",
   "execution_count": null,
   "id": "21281608-e5ea-4a27-9a6f-5108a77f2c4a",
   "metadata": {},
   "outputs": [],
   "source": []
  },
  {
   "cell_type": "markdown",
   "id": "6dfedb91-5635-4c83-8007-76e6a9c5e2f3",
   "metadata": {},
   "source": [
    "### Μεταβλητές και απλοί τύποι δεδομένων (κεφ 2) [1] "
   ]
  },
  {
   "cell_type": "markdown",
   "id": "253d247a-fdf3-41b4-a74b-d208e8000741",
   "metadata": {},
   "source": [
    "Εκτέλεση των προγραμμάτων `name.py`, `full_name.py`, `apostrophe.py`, `comment.py`."
   ]
  },
  {
   "cell_type": "markdown",
   "id": "a739f7a4-f32b-4d32-86ae-9e7032a087e1",
   "metadata": {},
   "source": [
    "### Σύνοψη\n",
    "<div class=\"alert alert-block alert-info\">\n",
    "\n",
    "Τρέξτε σε Jupyter τον κώδικα `pythonL1-2.ipynb` και σε VCS τον κώδικα `python_L1.py`.\n",
    "\n",
    "</div>\n"
   ]
  }
 ],
 "metadata": {
  "kernelspec": {
   "display_name": "Python 3 (ipykernel)",
   "language": "python",
   "name": "python3"
  },
  "language_info": {
   "codemirror_mode": {
    "name": "ipython",
    "version": 3
   },
   "file_extension": ".py",
   "mimetype": "text/x-python",
   "name": "python",
   "nbconvert_exporter": "python",
   "pygments_lexer": "ipython3",
   "version": "3.12.9"
  }
 },
 "nbformat": 4,
 "nbformat_minor": 5
}
